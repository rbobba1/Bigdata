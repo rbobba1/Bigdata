{
  "nbformat": 4,
  "nbformat_minor": 0,
  "metadata": {
    "colab": {
      "provenance": []
    },
    "kernelspec": {
      "name": "python3",
      "display_name": "Python 3"
    },
    "language_info": {
      "name": "python"
    }
  },
  "cells": [
    {
      "cell_type": "code",
      "execution_count": 1,
      "metadata": {
        "id": "G3cARKHNZBE-"
      },
      "outputs": [],
      "source": [
        "def compress_message(msg):\n",
        "\n",
        "  compressed_msg = \"\"\n",
        "  prev_char = \"\"\n",
        "  count = 1\n",
        "\n",
        "  for char in msg:\n",
        "    if char == prev_char:\n",
        "      count += 1\n",
        "    else:\n",
        "      if count > 1:\n",
        "        compressed_msg += f\"{prev_char}{count}\"\n",
        "      else:\n",
        "        compressed_msg += prev_char\n",
        "      count = 1\n",
        "    prev_char = char\n",
        "\n",
        "  if count > 1:\n",
        "    compressed_msg += f\"{prev_char}{count}\"\n",
        "  else:\n",
        "    compressed_msg += prev_char\n",
        "\n",
        "  return compressed_msg\n",
        "\n",
        "\n",
        "\n"
      ]
    },
    {
      "cell_type": "code",
      "source": [
        " msg = input(\"Enter the message: \")\n",
        " compressed_msg = compress_message(msg)\n",
        " print(f\"Compressed message: {compressed_msg}\")"
      ],
      "metadata": {
        "colab": {
          "base_uri": "https://localhost:8080/"
        },
        "id": "3V4F_m52ZM3M",
        "outputId": "12170891-d65a-4cab-b3b8-ee20618e4196"
      },
      "execution_count": 3,
      "outputs": [
        {
          "output_type": "stream",
          "name": "stdout",
          "text": [
            "Enter the message: abcdefghijjkkllmmooppqqrrssttuuvvyyz\n",
            "Compressed message: abcdefghij2k2l2m2o2p2q2r2s2t2u2v2y2z\n"
          ]
        }
      ]
    }
  ]
}